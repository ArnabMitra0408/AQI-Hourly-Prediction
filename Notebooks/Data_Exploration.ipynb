{
 "cells": [
  {
   "cell_type": "code",
   "execution_count": 17,
   "metadata": {},
   "outputs": [
    {
     "data": {
      "text/plain": [
       "True"
      ]
     },
     "execution_count": 17,
     "metadata": {},
     "output_type": "execute_result"
    }
   ],
   "source": [
    "import numpy as np\n",
    "import pandas as pd\n",
    "import matplotlib.pyplot as plt\n",
    "import seaborn as sns\n",
    "from dotenv import load_dotenv\n",
    "load_dotenv()"
   ]
  },
  {
   "cell_type": "code",
   "execution_count": 22,
   "metadata": {},
   "outputs": [],
   "source": [
    "weather=pd.read_csv('../data_store/csv_weather_data/weather_data.csv')\n",
    "aqi=pd.read_csv('../data_store/csv_aqi_data/aqi_data.csv')"
   ]
  },
  {
   "cell_type": "code",
   "execution_count": 21,
   "metadata": {},
   "outputs": [
    {
     "data": {
      "text/html": [
       "<div>\n",
       "<style scoped>\n",
       "    .dataframe tbody tr th:only-of-type {\n",
       "        vertical-align: middle;\n",
       "    }\n",
       "\n",
       "    .dataframe tbody tr th {\n",
       "        vertical-align: top;\n",
       "    }\n",
       "\n",
       "    .dataframe thead th {\n",
       "        text-align: right;\n",
       "    }\n",
       "</style>\n",
       "<table border=\"1\" class=\"dataframe\">\n",
       "  <thead>\n",
       "    <tr style=\"text-align: right;\">\n",
       "      <th></th>\n",
       "      <th>date</th>\n",
       "      <th>temperature_2m</th>\n",
       "      <th>relative_humidity_2m</th>\n",
       "      <th>rain</th>\n",
       "      <th>wind_speed_10m</th>\n",
       "      <th>wind_direction_10m</th>\n",
       "      <th>soil_temperature_0_to_7cm</th>\n",
       "      <th>soil_moisture_0_to_7cm</th>\n",
       "      <th>State</th>\n",
       "    </tr>\n",
       "  </thead>\n",
       "  <tbody>\n",
       "    <tr>\n",
       "      <th>0</th>\n",
       "      <td>2023-10-13 00:00:00+00:00</td>\n",
       "      <td>19.529999</td>\n",
       "      <td>75.726600</td>\n",
       "      <td>0.0</td>\n",
       "      <td>9.290511</td>\n",
       "      <td>54.462240</td>\n",
       "      <td>20.429998</td>\n",
       "      <td>0.451</td>\n",
       "      <td>Alabama</td>\n",
       "    </tr>\n",
       "    <tr>\n",
       "      <th>1</th>\n",
       "      <td>2023-10-13 01:00:00+00:00</td>\n",
       "      <td>18.630000</td>\n",
       "      <td>79.328300</td>\n",
       "      <td>0.0</td>\n",
       "      <td>7.928177</td>\n",
       "      <td>50.527570</td>\n",
       "      <td>19.880000</td>\n",
       "      <td>0.450</td>\n",
       "      <td>Alabama</td>\n",
       "    </tr>\n",
       "    <tr>\n",
       "      <th>2</th>\n",
       "      <td>2023-10-13 02:00:00+00:00</td>\n",
       "      <td>18.130000</td>\n",
       "      <td>81.067150</td>\n",
       "      <td>0.0</td>\n",
       "      <td>9.000000</td>\n",
       "      <td>53.130020</td>\n",
       "      <td>19.429998</td>\n",
       "      <td>0.449</td>\n",
       "      <td>Alabama</td>\n",
       "    </tr>\n",
       "    <tr>\n",
       "      <th>3</th>\n",
       "      <td>2023-10-13 03:00:00+00:00</td>\n",
       "      <td>18.380000</td>\n",
       "      <td>77.521416</td>\n",
       "      <td>0.0</td>\n",
       "      <td>11.440979</td>\n",
       "      <td>65.854460</td>\n",
       "      <td>19.179998</td>\n",
       "      <td>0.449</td>\n",
       "      <td>Alabama</td>\n",
       "    </tr>\n",
       "    <tr>\n",
       "      <th>4</th>\n",
       "      <td>2023-10-13 04:00:00+00:00</td>\n",
       "      <td>18.330000</td>\n",
       "      <td>76.765090</td>\n",
       "      <td>0.0</td>\n",
       "      <td>12.313893</td>\n",
       "      <td>74.744830</td>\n",
       "      <td>19.029999</td>\n",
       "      <td>0.448</td>\n",
       "      <td>Alabama</td>\n",
       "    </tr>\n",
       "    <tr>\n",
       "      <th>...</th>\n",
       "      <td>...</td>\n",
       "      <td>...</td>\n",
       "      <td>...</td>\n",
       "      <td>...</td>\n",
       "      <td>...</td>\n",
       "      <td>...</td>\n",
       "      <td>...</td>\n",
       "      <td>...</td>\n",
       "      <td>...</td>\n",
       "    </tr>\n",
       "    <tr>\n",
       "      <th>440395</th>\n",
       "      <td>2024-10-13 19:00:00+00:00</td>\n",
       "      <td>14.051499</td>\n",
       "      <td>29.064245</td>\n",
       "      <td>0.0</td>\n",
       "      <td>3.143565</td>\n",
       "      <td>103.240530</td>\n",
       "      <td>20.351501</td>\n",
       "      <td>0.025</td>\n",
       "      <td>Wyoming</td>\n",
       "    </tr>\n",
       "    <tr>\n",
       "      <th>440396</th>\n",
       "      <td>2024-10-13 20:00:00+00:00</td>\n",
       "      <td>15.301499</td>\n",
       "      <td>26.217540</td>\n",
       "      <td>0.0</td>\n",
       "      <td>3.586474</td>\n",
       "      <td>107.525660</td>\n",
       "      <td>23.301500</td>\n",
       "      <td>0.025</td>\n",
       "      <td>Wyoming</td>\n",
       "    </tr>\n",
       "    <tr>\n",
       "      <th>440397</th>\n",
       "      <td>2024-10-13 21:00:00+00:00</td>\n",
       "      <td>16.001501</td>\n",
       "      <td>24.418613</td>\n",
       "      <td>0.0</td>\n",
       "      <td>4.673071</td>\n",
       "      <td>105.642310</td>\n",
       "      <td>25.151500</td>\n",
       "      <td>0.025</td>\n",
       "      <td>Wyoming</td>\n",
       "    </tr>\n",
       "    <tr>\n",
       "      <th>440398</th>\n",
       "      <td>2024-10-13 22:00:00+00:00</td>\n",
       "      <td>16.201500</td>\n",
       "      <td>23.570704</td>\n",
       "      <td>0.0</td>\n",
       "      <td>5.122890</td>\n",
       "      <td>108.435040</td>\n",
       "      <td>25.651500</td>\n",
       "      <td>0.025</td>\n",
       "      <td>Wyoming</td>\n",
       "    </tr>\n",
       "    <tr>\n",
       "      <th>440399</th>\n",
       "      <td>2024-10-13 23:00:00+00:00</td>\n",
       "      <td>15.951499</td>\n",
       "      <td>23.680243</td>\n",
       "      <td>0.0</td>\n",
       "      <td>6.591540</td>\n",
       "      <td>124.992096</td>\n",
       "      <td>24.751501</td>\n",
       "      <td>0.025</td>\n",
       "      <td>Wyoming</td>\n",
       "    </tr>\n",
       "  </tbody>\n",
       "</table>\n",
       "<p>440400 rows × 9 columns</p>\n",
       "</div>"
      ],
      "text/plain": [
       "                             date  temperature_2m  relative_humidity_2m  rain  \\\n",
       "0       2023-10-13 00:00:00+00:00       19.529999             75.726600   0.0   \n",
       "1       2023-10-13 01:00:00+00:00       18.630000             79.328300   0.0   \n",
       "2       2023-10-13 02:00:00+00:00       18.130000             81.067150   0.0   \n",
       "3       2023-10-13 03:00:00+00:00       18.380000             77.521416   0.0   \n",
       "4       2023-10-13 04:00:00+00:00       18.330000             76.765090   0.0   \n",
       "...                           ...             ...                   ...   ...   \n",
       "440395  2024-10-13 19:00:00+00:00       14.051499             29.064245   0.0   \n",
       "440396  2024-10-13 20:00:00+00:00       15.301499             26.217540   0.0   \n",
       "440397  2024-10-13 21:00:00+00:00       16.001501             24.418613   0.0   \n",
       "440398  2024-10-13 22:00:00+00:00       16.201500             23.570704   0.0   \n",
       "440399  2024-10-13 23:00:00+00:00       15.951499             23.680243   0.0   \n",
       "\n",
       "        wind_speed_10m  wind_direction_10m  soil_temperature_0_to_7cm  \\\n",
       "0             9.290511           54.462240                  20.429998   \n",
       "1             7.928177           50.527570                  19.880000   \n",
       "2             9.000000           53.130020                  19.429998   \n",
       "3            11.440979           65.854460                  19.179998   \n",
       "4            12.313893           74.744830                  19.029999   \n",
       "...                ...                 ...                        ...   \n",
       "440395        3.143565          103.240530                  20.351501   \n",
       "440396        3.586474          107.525660                  23.301500   \n",
       "440397        4.673071          105.642310                  25.151500   \n",
       "440398        5.122890          108.435040                  25.651500   \n",
       "440399        6.591540          124.992096                  24.751501   \n",
       "\n",
       "        soil_moisture_0_to_7cm    State  \n",
       "0                        0.451  Alabama  \n",
       "1                        0.450  Alabama  \n",
       "2                        0.449  Alabama  \n",
       "3                        0.449  Alabama  \n",
       "4                        0.448  Alabama  \n",
       "...                        ...      ...  \n",
       "440395                   0.025  Wyoming  \n",
       "440396                   0.025  Wyoming  \n",
       "440397                   0.025  Wyoming  \n",
       "440398                   0.025  Wyoming  \n",
       "440399                   0.025  Wyoming  \n",
       "\n",
       "[440400 rows x 9 columns]"
      ]
     },
     "execution_count": 21,
     "metadata": {},
     "output_type": "execute_result"
    }
   ],
   "source": [
    "weather"
   ]
  },
  {
   "cell_type": "code",
   "execution_count": 23,
   "metadata": {},
   "outputs": [
    {
     "data": {
      "text/plain": [
       "(436802, 12)"
      ]
     },
     "execution_count": 23,
     "metadata": {},
     "output_type": "execute_result"
    }
   ],
   "source": [
    "aqi.shape"
   ]
  },
  {
   "cell_type": "code",
   "execution_count": 24,
   "metadata": {},
   "outputs": [
    {
     "data": {
      "text/plain": [
       "(440400, 9)"
      ]
     },
     "execution_count": 24,
     "metadata": {},
     "output_type": "execute_result"
    }
   ],
   "source": [
    "weather.shape"
   ]
  }
 ],
 "metadata": {
  "kernelspec": {
   "display_name": "data_science",
   "language": "python",
   "name": "python3"
  },
  "language_info": {
   "codemirror_mode": {
    "name": "ipython",
    "version": 3
   },
   "file_extension": ".py",
   "mimetype": "text/x-python",
   "name": "python",
   "nbconvert_exporter": "python",
   "pygments_lexer": "ipython3",
   "version": "3.12.0"
  }
 },
 "nbformat": 4,
 "nbformat_minor": 2
}
